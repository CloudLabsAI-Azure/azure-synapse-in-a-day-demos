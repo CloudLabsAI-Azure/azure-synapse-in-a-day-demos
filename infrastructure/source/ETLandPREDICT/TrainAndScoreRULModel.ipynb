{
  "metadata": {
    "saveOutput": true,
    "language_info": {
      "name": "python"
    }
  },
  "nbformat": 4,
  "nbformat_minor": 2,
  "cells": [
    {
      "cell_type": "markdown",
      "metadata": {},
      "source": [
        "## 特徴量生成\n",
        "### 学習に必要な列を抽出して集計\n",
        "ここではデバイスごとに各センサー平均値と**RUL**(耐用期間)の関係を作成します。"
      ],
      "attachments": {}
    },
    {
      "cell_type": "code",
      "execution_count": 34,
      "outputs": [
        {
          "output_type": "execute_result",
          "execution_count": 34,
          "data": {
            "text/plain": "+---------+------+---+-----------+-----------+-----------+----------+\n| DeviceId|Period|RUL|avgSensor11|avgSensor14|avgSensor15|avgSensor9|\n+---------+------+---+-----------+-----------+-----------+----------+\n|N1172FJ-2|    16|172|      46.17|    8121.61|       8.78|   8782.62|\n|N3172FJ-1|     5|164|      44.49|     8079.9|       9.27|   8748.87|\n|N1172FJ-1|    52|149|      45.87|    8122.38|       8.75|    8778.9|\n|N1172FJ-1|    35|134|      46.17|    8106.67|       8.72|    8764.4|\n|N3172FJ-1|    24|203|      44.55|    8068.05|       9.21|   8728.73|\n|N4172FJ-1|     6|168|      41.91|    8101.64|       9.32|   8338.59|\n|N1172FJ-1|    25|228|      45.49|     8105.7|       8.91|    8720.3|\n|N4172FJ-2|    15|177|       42.5|    8102.25|       9.43|   8346.38|\n|N1172FJ-2|    46|277|      42.98|    8080.73|       9.47|   8331.11|\n|N3172FJ-2|    48|242|      42.32|    8156.91|       9.37|   8396.64|\n+---------+------+---+-----------+-----------+-----------+----------+\nonly showing top 10 rows"
          },
          "metadata": {}
        }
      ],
      "metadata": {},
      "source": [
        "pydf = spark.sql(\"\"\"\n",
        "    SELECT\n",
        "        DeviceId,\n",
        "        Period,\n",
        "        max(Cycle) AS RUL,\n",
        "        round(avg(Sensor11),2) AS avgSensor11,\n",
        "        round(avg(Sensor14),2) AS avgSensor14,\n",
        "        round(avg(Sensor15),2) AS avgSensor15,\n",
        "        round(avg(Sensor9),2) AS avgSensor9\n",
        "    FROM \n",
        "        sensortablespark\n",
        "    WHERE\n",
        "        endofperiod = 1 \n",
        "    GROUP BY \n",
        "        DeviceId,\n",
        "        Period\n",
        "    \"\"\")\n",
        "pydf.show(10)"
      ],
      "attachments": {}
    },
    {
      "cell_type": "code",
      "execution_count": 35,
      "outputs": [
        {
          "output_type": "execute_result",
          "execution_count": 35,
          "data": {
            "text/plain": "(436, 7)"
          },
          "metadata": {}
        }
      ],
      "metadata": {},
      "source": [
        "# Shape\n",
        "print((pydf.count(), len(pydf.columns)))"
      ],
      "attachments": {}
    },
    {
      "cell_type": "markdown",
      "metadata": {},
      "source": [
        "## 特徴量変換\n",
        "SparkMLが実行可能なベクター形式に変換します"
      ],
      "attachments": {}
    },
    {
      "cell_type": "code",
      "execution_count": 36,
      "outputs": [],
      "metadata": {},
      "source": [
        "from pyspark.ml.feature import VectorAssembler\n",
        "from pyspark.ml.regression import LinearRegression\n",
        "# 特徴量変換\n",
        "vectorAssembler = VectorAssembler(inputCols = ['avgSensor11','avgSensor14','avgSensor15','avgSensor9'], outputCol = 'features')\n",
        "# T-SQL PREDICT単純化のために特徴量削減ver\n",
        "# vectorAssembler = VectorAssembler(inputCols = ['Sensor11'], outputCol = 'features')\n",
        "\n",
        "vdf = vectorAssembler.transform(pydf)"
      ],
      "attachments": {}
    },
    {
      "cell_type": "markdown",
      "metadata": {},
      "source": [
        "## データセット分割\n",
        ""
      ],
      "attachments": {}
    },
    {
      "cell_type": "code",
      "execution_count": 38,
      "outputs": [],
      "metadata": {},
      "source": [
        "trainingFraction = 0.7\n",
        "testingFraction = (1-trainingFraction)\n",
        "seed = 42\n",
        "\n",
        "# Split the dataframe into test and training dataframes\n",
        "df_train, df_test = vdf.randomSplit([trainingFraction, testingFraction], seed=seed)"
      ],
      "attachments": {}
    },
    {
      "cell_type": "markdown",
      "metadata": {},
      "source": [
        "## モデル学習\n",
        "線形回帰を利用しています。\n",
        "実運用には時系列データ用の適切なアルゴリズムを選定ください。"
      ],
      "attachments": {}
    },
    {
      "cell_type": "code",
      "execution_count": 42,
      "outputs": [
        {
          "output_type": "execute_result",
          "execution_count": 42,
          "data": {
            "text/plain": "Coefficients: [48.681536516326126,0.7054508941857961,229.12063313718622,-0.13949520207323793]\nIntercept: -8588.624013955796"
          },
          "metadata": {}
        }
      ],
      "metadata": {},
      "source": [
        "# モデル作成\n",
        "lin_reg = LinearRegression(featuresCol = 'features', labelCol='RUL', maxIter = 10, regParam=0.3)\n",
        "model = lin_reg.fit(df_train)\n",
        "print(\"Coefficients: \" + str(model.coefficients))\n",
        "print(\"Intercept: \" + str(model.intercept))"
      ],
      "attachments": {}
    },
    {
      "cell_type": "markdown",
      "metadata": {},
      "source": [
        "## 推論結果の確認\n",
        ""
      ],
      "attachments": {}
    },
    {
      "cell_type": "code",
      "execution_count": 44,
      "outputs": [],
      "metadata": {},
      "source": [
        "# テストデータセットで推論実行\n",
        "prediction = model.transform(df_test)"
      ],
      "attachments": {}
    },
    {
      "cell_type": "code",
      "execution_count": 47,
      "outputs": [
        {
          "output_type": "execute_result",
          "execution_count": 47,
          "data": {
            "application/json": {
              "table": {
                "rows": [
                  {
                    "features": {
                      "type": 1,
                      "values": [
                        44.55,
                        8068.05,
                        9.21,
                        8728.73
                      ]
                    },
                    "RUL": 203,
                    "prediction": 164.3366006829965
                  },
                  {
                    "features": {
                      "type": 1,
                      "values": [
                        42.5,
                        8102.25,
                        9.43,
                        8346.38
                      ]
                    },
                    "RUL": 177,
                    "prediction": 192.4084012085641
                  },
                  {
                    "features": {
                      "type": 1,
                      "values": [
                        46.17,
                        8145.53,
                        8.76,
                        8803.21
                      ]
                    },
                    "RUL": 242,
                    "prediction": 184.3651375588106
                  },
                  {
                    "features": {
                      "type": 1,
                      "values": [
                        42.32,
                        8156.91,
                        9.37,
                        8396.64
                      ]
                    },
                    "RUL": 242,
                    "prediction": 201.44740366738915
                  },
                  {
                    "features": {
                      "type": 1,
                      "values": [
                        42.27,
                        8113.82,
                        9.38,
                        8353.92
                      ]
                    },
                    "RUL": 142,
                    "prediction": 176.86588917504923
                  },
                  {
                    "features": {
                      "type": 1,
                      "values": [
                        42.58,
                        8145.75,
                        9.41,
                        8391.1
                      ]
                    },
                    "RUL": 286,
                    "prediction": 216.16939992749576
                  },
                  {
                    "features": {
                      "type": 1,
                      "values": [
                        47.6,
                        8152.79,
                        8.45,
                        9082.44
                      ]
                    },
                    "RUL": 189,
                    "prediction": 149.12266672150872
                  },
                  {
                    "features": {
                      "type": 1,
                      "values": [
                        42.79,
                        8150.38,
                        9.44,
                        8398.68
                      ]
                    },
                    "RUL": 157,
                    "prediction": 235.4750055984041
                  },
                  {
                    "features": {
                      "type": 1,
                      "values": [
                        42.02,
                        8068.13,
                        9.39,
                        8307.51
                      ]
                    },
                    "RUL": 102,
                    "prediction": 141.2286323502085
                  },
                  {
                    "features": {
                      "type": 1,
                      "values": [
                        42.89,
                        8171.2,
                        9.39,
                        8423.37
                      ]
                    },
                    "RUL": 215,
                    "prediction": 240.13047867093883
                  },
                  {
                    "features": {
                      "type": 1,
                      "values": [
                        45.59,
                        8120.26,
                        8.68,
                        8765.97
                      ]
                    },
                    "RUL": 156,
                    "prediction": 125.16825295749913
                  },
                  {
                    "features": {
                      "type": 1,
                      "values": [
                        45.58,
                        8113.52,
                        8.68,
                        8765.86
                      ]
                    },
                    "RUL": 51,
                    "prediction": 119.94204303775405
                  },
                  {
                    "features": {
                      "type": 1,
                      "values": [
                        46.17,
                        8137.74,
                        8.77,
                        8796.46
                      ]
                    },
                    "RUL": 160,
                    "prediction": 182.10247403846915
                  },
                  {
                    "features": {
                      "type": 1,
                      "values": [
                        47.51,
                        8129.15,
                        8.44,
                        9042.71
                      ]
                    },
                    "RUL": 88,
                    "prediction": 131.31540734348528
                  },
                  {
                    "features": {
                      "type": 1,
                      "values": [
                        46.18,
                        8139.22,
                        8.76,
                        8795.47
                      ]
                    },
                    "RUL": 209,
                    "prediction": 181.48025064570902
                  },
                  {
                    "features": {
                      "type": 1,
                      "values": [
                        42.62,
                        8142.26,
                        9.43,
                        8396.18
                      ]
                    },
                    "RUL": 278,
                    "prediction": 219.52841480365169
                  },
                  {
                    "features": {
                      "type": 1,
                      "values": [
                        42.8,
                        8220.82,
                        9.4,
                        8459.05
                      ]
                    },
                    "RUL": 181,
                    "prediction": 268.0676312753658
                  },
                  {
                    "features": {
                      "type": 1,
                      "values": [
                        37.26,
                        7857.06,
                        10.98,
                        7995.54
                      ]
                    },
                    "RUL": 254,
                    "prediction": 168.4251231756134
                  },
                  {
                    "features": {
                      "type": 1,
                      "values": [
                        48.25,
                        8119.5,
                        8.54,
                        9049.62
                      ]
                    },
                    "RUL": 128,
                    "prediction": 182.48029470406618
                  },
                  {
                    "features": {
                      "type": 1,
                      "values": [
                        42.19,
                        8072.11,
                        9.39,
                        8356.42
                      ]
                    },
                    "RUL": 103,
                    "prediction": 145.48947778344336
                  },
                  {
                    "features": {
                      "type": 1,
                      "values": [
                        42.69,
                        8112.16,
                        9.42,
                        8357.44
                      ]
                    },
                    "RUL": 323,
                    "prediction": 204.8148882417463
                  },
                  {
                    "features": {
                      "type": 1,
                      "values": [
                        42.62,
                        8082.5,
                        9.5,
                        8324.81
                      ]
                    },
                    "RUL": 281,
                    "prediction": 203.3648862586797
                  },
                  {
                    "features": {
                      "type": 1,
                      "values": [
                        42.61,
                        8183.24,
                        9.41,
                        8425.69
                      ]
                    },
                    "RUL": 258,
                    "prediction": 239.25206100629657
                  },
                  {
                    "features": {
                      "type": 1,
                      "values": [
                        44.82,
                        8047.13,
                        9.29,
                        8717.88
                      ]
                    },
                    "RUL": 187,
                    "prediction": 182.5657564295052
                  },
                  {
                    "features": {
                      "type": 1,
                      "values": [
                        42.09,
                        8068.33,
                        9.34,
                        8359.74
                      ]
                    },
                    "RUL": 120,
                    "prediction": 126.03556402404502
                  },
                  {
                    "features": {
                      "type": 1,
                      "values": [
                        47.61,
                        8179.97,
                        8.48,
                        9111.44
                      ]
                    },
                    "RUL": 188,
                    "prediction": 171.61189552463475
                  },
                  {
                    "features": {
                      "type": 1,
                      "values": [
                        44.8,
                        8056.54,
                        9.3,
                        8717.66
                      ]
                    },
                    "RUL": 287,
                    "prediction": 190.55231388929678
                  },
                  {
                    "features": {
                      "type": 1,
                      "values": [
                        42.1,
                        8080.53,
                        9.36,
                        8320.76
                      ]
                    },
                    "RUL": 73,
                    "prediction": 145.1488159378314
                  },
                  {
                    "features": {
                      "type": 1,
                      "values": [
                        44.59,
                        8052.47,
                        9.23,
                        8715.41
                      ]
                    },
                    "RUL": 26,
                    "prediction": 161.73342596659495
                  },
                  {
                    "features": {
                      "type": 1,
                      "values": [
                        42.61,
                        8131.41,
                        9.43,
                        8377.87
                      ]
                    },
                    "RUL": 226,
                    "prediction": 213.94161438653282
                  },
                  {
                    "features": {
                      "type": 1,
                      "values": [
                        42.45,
                        8090.59,
                        9.45,
                        8333.1
                      ]
                    },
                    "RUL": 185,
                    "prediction": 188.1836759028174
                  },
                  {
                    "features": {
                      "type": 1,
                      "values": [
                        44.38,
                        8071.08,
                        9.21,
                        8729.31
                      ]
                    },
                    "RUL": 117,
                    "prediction": 158.1173484674
                  },
                  {
                    "features": {
                      "type": 1,
                      "values": [
                        42.11,
                        8079.72,
                        9.38,
                        8327.35
                      ]
                    },
                    "RUL": 85,
                    "prediction": 148.7273553597861
                  },
                  {
                    "features": {
                      "type": 1,
                      "values": [
                        42.09,
                        8103.37,
                        9.36,
                        8346.31
                      ]
                    },
                    "RUL": 238,
                    "prediction": 157.210396582901
                  },
                  {
                    "features": {
                      "type": 1,
                      "values": [
                        42.76,
                        8234.14,
                        9.37,
                        8484.43
                      ]
                    },
                    "RUL": 231,
                    "prediction": 265.10296850253144
                  },
                  {
                    "features": {
                      "type": 1,
                      "values": [
                        42.03,
                        8106.19,
                        9.32,
                        8342.53
                      ]
                    },
                    "RUL": 167,
                    "prediction": 147.64134245187597
                  },
                  {
                    "features": {
                      "type": 1,
                      "values": [
                        37.51,
                        7875.33,
                        11.02,
                        8011.03
                      ]
                    },
                    "RUL": 192,
                    "prediction": 200.48813978684302
                  },
                  {
                    "features": {
                      "type": 1,
                      "values": [
                        42.92,
                        8092.1,
                        9.47,
                        8347.25
                      ]
                    },
                    "RUL": 199,
                    "prediction": 214.73778446912183
                  },
                  {
                    "features": {
                      "type": 1,
                      "values": [
                        42.13,
                        8083.13,
                        9.38,
                        8318.09
                      ]
                    },
                    "RUL": 102,
                    "prediction": 153.39829921048658
                  },
                  {
                    "features": {
                      "type": 1,
                      "values": [
                        42.5,
                        8141.65,
                        9.43,
                        8433.91
                      ]
                    },
                    "RUL": 225,
                    "prediction": 207.9931514020136
                  },
                  {
                    "features": {
                      "type": 1,
                      "values": [
                        42.85,
                        8042.06,
                        9.44,
                        8333.95
                      ]
                    },
                    "RUL": 152,
                    "prediction": 171.01098136137807
                  },
                  {
                    "features": {
                      "type": 1,
                      "values": [
                        46.13,
                        8116.62,
                        8.73,
                        8776.6
                      ]
                    },
                    "RUL": 174,
                    "prediction": 158.86163908030176
                  },
                  {
                    "features": {
                      "type": 1,
                      "values": [
                        42.51,
                        8157.74,
                        9.41,
                        8404.95
                      ]
                    },
                    "RUL": 223,
                    "prediction": 219.2880400439244
                  },
                  {
                    "features": {
                      "type": 1,
                      "values": [
                        47.52,
                        8134.95,
                        8.45,
                        9054.71
                      ]
                    },
                    "RUL": 16,
                    "prediction": 136.51110180141768
                  },
                  {
                    "features": {
                      "type": 1,
                      "values": [
                        42.02,
                        8092.88,
                        9.36,
                        8334.95
                      ]
                    },
                    "RUL": 145,
                    "prediction": 147.9871746423014
                  },
                  {
                    "features": {
                      "type": 1,
                      "values": [
                        41.84,
                        8061.22,
                        9.31,
                        8350.01
                      ]
                    },
                    "RUL": 89,
                    "prediction": 103.33309335936065
                  },
                  {
                    "features": {
                      "type": 1,
                      "values": [
                        46.05,
                        8151.7,
                        8.79,
                        8807.01
                      ]
                    },
                    "RUL": 237,
                    "prediction": 189.21952242021507
                  },
                  {
                    "features": {
                      "type": 1,
                      "values": [
                        42.43,
                        8091.62,
                        9.42,
                        8329.99
                      ]
                    },
                    "RUL": 220,
                    "prediction": 181.49687067783816
                  },
                  {
                    "features": {
                      "type": 1,
                      "values": [
                        46.12,
                        8129.14,
                        8.77,
                        8784.44
                      ]
                    },
                    "RUL": 229,
                    "prediction": 175.27825185157417
                  },
                  {
                    "features": {
                      "type": 1,
                      "values": [
                        42.62,
                        8068.36,
                        9.46,
                        8313.19
                      ]
                    },
                    "RUL": 145,
                    "prediction": 185.8459195374944
                  },
                  {
                    "features": {
                      "type": 1,
                      "values": [
                        45.53,
                        8145.26,
                        8.71,
                        8804.14
                      ]
                    },
                    "RUL": 186,
                    "prediction": 141.43272025214537
                  },
                  {
                    "features": {
                      "type": 1,
                      "values": [
                        37.05,
                        7869.95,
                        10.92,
                        8014.71
                      ]
                    },
                    "RUL": 120,
                    "prediction": 150.873901521265
                  },
                  {
                    "features": {
                      "type": 1,
                      "values": [
                        42.29,
                        8083.42,
                        9.4,
                        8317.12
                      ]
                    },
                    "RUL": 179,
                    "prediction": 166.10964882116423
                  },
                  {
                    "features": {
                      "type": 1,
                      "values": [
                        37.44,
                        7857.85,
                        11.02,
                        7995.21
                      ]
                    },
                    "RUL": 249,
                    "prediction": 186.95596469713018
                  },
                  {
                    "features": {
                      "type": 1,
                      "values": [
                        42.23,
                        8075.12,
                        9.37,
                        8312.96
                      ]
                    },
                    "RUL": 168,
                    "prediction": 151.04019525495278
                  },
                  {
                    "features": {
                      "type": 1,
                      "values": [
                        46.03,
                        8107.17,
                        8.76,
                        8766.25
                      ]
                    },
                    "RUL": 176,
                    "prediction": 155.64436881418442
                  },
                  {
                    "features": {
                      "type": 1,
                      "values": [
                        42.73,
                        8068.55,
                        9.49,
                        8309.99
                      ]
                    },
                    "RUL": 154,
                    "prediction": 198.6549278649345
                  },
                  {
                    "features": {
                      "type": 1,
                      "values": [
                        45.49,
                        8118.94,
                        8.65,
                        8766.26
                      ]
                    },
                    "RUL": 74,
                    "prediction": 112.45483152282577
                  },
                  {
                    "features": {
                      "type": 1,
                      "values": [
                        42.45,
                        8065.03,
                        9.4,
                        8353.55
                      ]
                    },
                    "RUL": 200,
                    "prediction": 155.8436425081727
                  },
                  {
                    "features": {
                      "type": 1,
                      "values": [
                        45.58,
                        8121.33,
                        8.68,
                        8769.85
                      ]
                    },
                    "RUL": 200,
                    "prediction": 124.89502866507064
                  },
                  {
                    "features": {
                      "type": 1,
                      "values": [
                        42.7,
                        8204.9,
                        9.38,
                        8454.52
                      ]
                    },
                    "RUL": 174,
                    "prediction": 248.01819999094369
                  },
                  {
                    "features": {
                      "type": 1,
                      "values": [
                        42.46,
                        8072.34,
                        9.43,
                        8319.15
                      ]
                    },
                    "RUL": 132,
                    "prediction": 173.15955785526785
                  },
                  {
                    "features": {
                      "type": 1,
                      "values": [
                        42.63,
                        8156.36,
                        9.39,
                        8413.6
                      ]
                    },
                    "RUL": 236,
                    "prediction": 218.3672560312316
                  },
                  {
                    "features": {
                      "type": 1,
                      "values": [
                        37.3,
                        7860.58,
                        11,
                        7996.55
                      ]
                    },
                    "RUL": 199,
                    "prediction": 177.29709429245122
                  },
                  {
                    "features": {
                      "type": 1,
                      "values": [
                        44.4,
                        8066.88,
                        9.26,
                        8727.67
                      ]
                    },
                    "RUL": 153,
                    "prediction": 167.81288923040665
                  },
                  {
                    "features": {
                      "type": 1,
                      "values": [
                        42.63,
                        8091.35,
                        9.44,
                        8330.64
                      ]
                    },
                    "RUL": 213,
                    "prediction": 195.53444702106935
                  },
                  {
                    "features": {
                      "type": 1,
                      "values": [
                        45.61,
                        8133.33,
                        8.69,
                        8776.81
                      ]
                    },
                    "RUL": 79,
                    "prediction": 136.14120521573204
                  },
                  {
                    "features": {
                      "type": 1,
                      "values": [
                        42.75,
                        8125.64,
                        9.48,
                        8363.55
                      ]
                    },
                    "RUL": 277,
                    "prediction": 230.14018078991467
                  },
                  {
                    "features": {
                      "type": 1,
                      "values": [
                        44.82,
                        8200.43,
                        9.33,
                        8881.97
                      ]
                    },
                    "RUL": 272,
                    "prediction": 276.9864361254804
                  },
                  {
                    "features": {
                      "type": 1,
                      "values": [
                        42.44,
                        8095.98,
                        9.38,
                        8387.15
                      ]
                    },
                    "RUL": 280,
                    "prediction": 167.9210808656553
                  },
                  {
                    "features": {
                      "type": 1,
                      "values": [
                        46.13,
                        8145.66,
                        8.74,
                        8802.92
                      ]
                    },
                    "RUL": 170,
                    "prediction": 177.96762566026155
                  },
                  {
                    "features": {
                      "type": 1,
                      "values": [
                        42.92,
                        8083.44,
                        9.49,
                        8326.34
                      ]
                    },
                    "RUL": 174,
                    "prediction": 216.1278370635664
                  },
                  {
                    "features": {
                      "type": 1,
                      "values": [
                        42.02,
                        8096.6,
                        9.38,
                        8338.58
                      ]
                    },
                    "RUL": 133,
                    "prediction": 154.68749704789298
                  },
                  {
                    "features": {
                      "type": 1,
                      "values": [
                        42.17,
                        8092.34,
                        9.31,
                        8385.06
                      ]
                    },
                    "RUL": 127,
                    "prediction": 136.46232540414167
                  },
                  {
                    "features": {
                      "type": 1,
                      "values": [
                        46.16,
                        8141.71,
                        8.75,
                        8801.23
                      ]
                    },
                    "RUL": 242,
                    "prediction": 179.1684939465922
                  },
                  {
                    "features": {
                      "type": 1,
                      "values": [
                        48.27,
                        8113.18,
                        8.54,
                        9049.71
                      ]
                    },
                    "RUL": 171,
                    "prediction": 178.9829212149525
                  },
                  {
                    "features": {
                      "type": 1,
                      "values": [
                        42.6,
                        8185.87,
                        9.4,
                        8432.37
                      ]
                    },
                    "RUL": 249,
                    "prediction": 237.3975472116217
                  },
                  {
                    "features": {
                      "type": 1,
                      "values": [
                        48.31,
                        8112.46,
                        8.52,
                        9032.94
                      ]
                    },
                    "RUL": 154,
                    "prediction": 178.1791799078146
                  },
                  {
                    "features": {
                      "type": 1,
                      "values": [
                        41.94,
                        8066.39,
                        9.3,
                        8343.82
                      ]
                    },
                    "RUL": 39,
                    "prediction": 110.42069710339456
                  },
                  {
                    "features": {
                      "type": 1,
                      "values": [
                        42.01,
                        8072.99,
                        9.33,
                        8358.01
                      ]
                    },
                    "RUL": 198,
                    "prediction": 123.37856263785943
                  },
                  {
                    "features": {
                      "type": 1,
                      "values": [
                        45.8,
                        8140.07,
                        8.73,
                        8796.27
                      ]
                    },
                    "RUL": 216,
                    "prediction": 156.59568487378965
                  },
                  {
                    "features": {
                      "type": 1,
                      "values": [
                        44.33,
                        8051.52,
                        9.22,
                        8721.42
                      ]
                    },
                    "RUL": 135,
                    "prediction": 145.2764756270426
                  },
                  {
                    "features": {
                      "type": 1,
                      "values": [
                        42.13,
                        8062.21,
                        9.4,
                        8347.06
                      ]
                    },
                    "RUL": 221,
                    "prediction": 139.18150316280116
                  },
                  {
                    "features": {
                      "type": 1,
                      "values": [
                        48.19,
                        8172.59,
                        8.51,
                        9104.91
                      ]
                    },
                    "RUL": 260,
                    "prediction": 202.42548176866512
                  },
                  {
                    "features": {
                      "type": 1,
                      "values": [
                        42.5,
                        8080.02,
                        9.42,
                        8363.95
                      ]
                    },
                    "RUL": 210,
                    "prediction": 171.98409079901649
                  },
                  {
                    "features": {
                      "type": 1,
                      "values": [
                        45.96,
                        8104.95,
                        8.77,
                        8757.53
                      ]
                    },
                    "RUL": 225,
                    "prediction": 154.1781647664011
                  },
                  {
                    "features": {
                      "type": 1,
                      "values": [
                        43.02,
                        8117.92,
                        9.44,
                        8363.85
                      ]
                    },
                    "RUL": 218,
                    "prediction": 228.63144086009925
                  },
                  {
                    "features": {
                      "type": 1,
                      "values": [
                        37.32,
                        7859.69,
                        10.98,
                        8006.57
                      ]
                    },
                    "RUL": 201,
                    "prediction": 171.66271913943456
                  },
                  {
                    "features": {
                      "type": 1,
                      "values": [
                        47.77,
                        8166.32,
                        8.47,
                        9091.71
                      ]
                    },
                    "RUL": 183,
                    "prediction": 170.23257066714177
                  },
                  {
                    "features": {
                      "type": 1,
                      "values": [
                        42.75,
                        8067.1,
                        9.46,
                        8308.65
                      ]
                    },
                    "RUL": 243,
                    "prediction": 191.91895937535446
                  },
                  {
                    "features": {
                      "type": 1,
                      "values": [
                        42.77,
                        8085.8,
                        9.44,
                        8335.73
                      ]
                    },
                    "RUL": 238,
                    "prediction": 197.7245790920697
                  },
                  {
                    "features": {
                      "type": 1,
                      "values": [
                        42.2,
                        8078.44,
                        9.4,
                        8321.34
                      ]
                    },
                    "RUL": 28,
                    "prediction": 157.626495328901
                  },
                  {
                    "features": {
                      "type": 1,
                      "values": [
                        42.64,
                        8225.64,
                        9.36,
                        8475.52
                      ]
                    },
                    "RUL": 178,
                    "prediction": 252.21654743909494
                  },
                  {
                    "features": {
                      "type": 1,
                      "values": [
                        41.86,
                        8071.8,
                        9.27,
                        8362.9
                      ]
                    },
                    "RUL": 92,
                    "prediction": 100.8074760699601
                  },
                  {
                    "features": {
                      "type": 1,
                      "values": [
                        42.55,
                        8135.1,
                        9.42,
                        8430.59
                      ]
                    },
                    "RUL": 225,
                    "prediction": 203.978442610427
                  },
                  {
                    "features": {
                      "type": 1,
                      "values": [
                        47.31,
                        8144.34,
                        8.4,
                        9058.96
                      ]
                    },
                    "RUL": 44,
                    "prediction": 120.86327676372639
                  },
                  {
                    "features": {
                      "type": 1,
                      "values": [
                        42.18,
                        8059.62,
                        9.33,
                        8346.18
                      ]
                    },
                    "RUL": 133,
                    "prediction": 123.87277363089561
                  },
                  {
                    "features": {
                      "type": 1,
                      "values": [
                        41.88,
                        8087.17,
                        9.31,
                        8322.63
                      ]
                    },
                    "RUL": 38,
                    "prediction": 127.40618415689823
                  },
                  {
                    "features": {
                      "type": 1,
                      "values": [
                        44.44,
                        8073.25,
                        9.25,
                        8736.94
                      ]
                    },
                    "RUL": 157,
                    "prediction": 170.66954603243357
                  },
                  {
                    "features": {
                      "type": 1,
                      "values": [
                        42.59,
                        8102.79,
                        9.44,
                        8354.8
                      ]
                    },
                    "RUL": 193,
                    "prediction": 198.28733970781104
                  },
                  {
                    "features": {
                      "type": 1,
                      "values": [
                        46.12,
                        8100.98,
                        8.72,
                        8760.95
                      ]
                    },
                    "RUL": 147,
                    "prediction": 147.23346531114476
                  },
                  {
                    "features": {
                      "type": 1,
                      "values": [
                        37.16,
                        7877.1,
                        10.93,
                        8028.24
                      ]
                    },
                    "RUL": 224,
                    "prediction": 161.67668067881095
                  },
                  {
                    "features": {
                      "type": 1,
                      "values": [
                        41.99,
                        8094.6,
                        9.34,
                        8336.01
                      ]
                    },
                    "RUL": 122,
                    "prediction": 143.00982650787046
                  },
                  {
                    "features": {
                      "type": 1,
                      "values": [
                        42.67,
                        8070.86,
                        9.45,
                        8355.68
                      ]
                    },
                    "RUL": 223,
                    "prediction": 181.82526613131085
                  },
                  {
                    "features": {
                      "type": 1,
                      "values": [
                        42.63,
                        8109.46,
                        9.43,
                        8356.06
                      ]
                    },
                    "RUL": 182,
                    "prediction": 202.4729883466989
                  },
                  {
                    "features": {
                      "type": 1,
                      "values": [
                        42.91,
                        8200.28,
                        9.4,
                        8441.83
                      ]
                    },
                    "RUL": 190,
                    "prediction": 261.3347463052869
                  },
                  {
                    "features": {
                      "type": 1,
                      "values": [
                        42.8,
                        8090.23,
                        9.46,
                        8325.39
                      ]
                    },
                    "RUL": 223,
                    "prediction": 208.33496570098214
                  },
                  {
                    "features": {
                      "type": 1,
                      "values": [
                        42.6,
                        8062.43,
                        9.42,
                        8354.5
                      ]
                    },
                    "RUL": 202,
                    "prediction": 165.76159288151393
                  },
                  {
                    "features": {
                      "type": 1,
                      "values": [
                        36.67,
                        7877.23,
                        10.92,
                        8006.24
                      ]
                    },
                    "RUL": 72,
                    "prediction": 138.69212451629392
                  },
                  {
                    "features": {
                      "type": 1,
                      "values": [
                        44.54,
                        8064.4,
                        9.23,
                        8723.86
                      ]
                    },
                    "RUL": 163,
                    "prediction": 166.53664385089542
                  },
                  {
                    "features": {
                      "type": 1,
                      "values": [
                        48.38,
                        8144.53,
                        8.49,
                        9069.05
                      ]
                    },
                    "RUL": 203,
                    "prediction": 192.29990689951592
                  },
                  {
                    "features": {
                      "type": 1,
                      "values": [
                        36.94,
                        7872.05,
                        10.9,
                        8017.52
                      ]
                    },
                    "RUL": 116,
                    "prediction": 142.02598520169158
                  },
                  {
                    "features": {
                      "type": 1,
                      "values": [
                        47.77,
                        8128.74,
                        8.43,
                        9050.2
                      ]
                    },
                    "RUL": 49,
                    "prediction": 140.34734657621084
                  },
                  {
                    "features": {
                      "type": 1,
                      "values": [
                        45.37,
                        8144.72,
                        8.64,
                        8800.82
                      ]
                    },
                    "RUL": 125,
                    "prediction": 117.68741067795418
                  },
                  {
                    "features": {
                      "type": 1,
                      "values": [
                        44.34,
                        8069.12,
                        9.21,
                        8726.66
                      ]
                    },
                    "RUL": 82,
                    "prediction": 155.157065539639
                  },
                  {
                    "features": {
                      "type": 1,
                      "values": [
                        42.79,
                        8156.75,
                        9.42,
                        8402.2
                      ]
                    },
                    "RUL": 187,
                    "prediction": 234.89529202032645
                  },
                  {
                    "features": {
                      "type": 1,
                      "values": [
                        37.38,
                        7935.94,
                        11,
                        8078.72
                      ]
                    },
                    "RUL": 202,
                    "prediction": 222.89207584524047
                  },
                  {
                    "features": {
                      "type": 1,
                      "values": [
                        42.84,
                        8058.36,
                        9.48,
                        8309.73
                      ]
                    },
                    "RUL": 213,
                    "prediction": 194.56641469114584
                  },
                  {
                    "features": {
                      "type": 1,
                      "values": [
                        41.94,
                        8066.8,
                        9.39,
                        8312.53
                      ]
                    },
                    "RUL": 54,
                    "prediction": 135.69559382522675
                  },
                  {
                    "features": {
                      "type": 1,
                      "values": [
                        46.19,
                        8138.17,
                        8.76,
                        8803.37
                      ]
                    },
                    "RUL": 199,
                    "prediction": 180.12433047559898
                  },
                  {
                    "features": {
                      "type": 1,
                      "values": [
                        42.08,
                        8069.81,
                        9.34,
                        8351.78
                      ]
                    },
                    "RUL": 149,
                    "prediction": 127.70319779077727
                  },
                  {
                    "features": {
                      "type": 1,
                      "values": [
                        37.02,
                        7880.46,
                        10.95,
                        8020.99
                      ]
                    },
                    "RUL": 181,
                    "prediction": 162.82533344876538
                  },
                  {
                    "features": {
                      "type": 1,
                      "values": [
                        41.93,
                        8067.76,
                        9.3,
                        8350.1
                      ]
                    },
                    "RUL": 93,
                    "prediction": 110.02431959424575
                  },
                  {
                    "features": {
                      "type": 1,
                      "values": [
                        47.91,
                        8144.29,
                        8.47,
                        9066.79
                      ]
                    },
                    "RUL": 218,
                    "prediction": 164.9831230161799
                  },
                  {
                    "features": {
                      "type": 1,
                      "values": [
                        42.02,
                        8092.82,
                        9.38,
                        8337.36
                      ]
                    },
                    "RUL": 169,
                    "prediction": 152.1910768143971
                  },
                  {
                    "features": {
                      "type": 1,
                      "values": [
                        42.71,
                        8102.66,
                        9.44,
                        8343.84
                      ]
                    },
                    "RUL": 199,
                    "prediction": 205.56628288824686
                  }
                ],
                "schema": {
                  "features": "vector",
                  "RUL": "bigint",
                  "prediction": "double"
                }
              },
              "isSummary": false,
              "language": "python"
            }
          },
          "metadata": {}
        }
      ],
      "metadata": {
        "diagram": {
          "activateDiagramType": 1,
          "chartConfig": {
            "category": "bar",
            "keys": [
              "prediction"
            ],
            "values": [
              "RUL"
            ],
            "yLabel": "RUL",
            "xLabel": "prediction",
            "aggregation": "SUM",
            "aggByBackend": false
          },
          "aggData": {
            "RUL": {
              "100.8074760699601": 92,
              "103.33309335936065": 89,
              "110.02431959424575": 93,
              "110.42069710339456": 39,
              "112.45483152282577": 74,
              "117.68741067795418": 125,
              "119.94204303775405": 51,
              "120.86327676372639": 44,
              "123.37856263785943": 198,
              "123.87277363089561": 133,
              "124.89502866507064": 200,
              "125.16825295749913": 156,
              "126.03556402404502": 120,
              "127.40618415689823": 38,
              "127.70319779077727": 149,
              "131.31540734348528": 88,
              "135.69559382522675": 54,
              "136.14120521573204": 79,
              "136.46232540414167": 127,
              "136.51110180141768": 16,
              "138.69212451629392": 72,
              "139.18150316280116": 221,
              "140.34734657621084": 49,
              "141.2286323502085": 102,
              "141.43272025214537": 186,
              "142.02598520169158": 116,
              "143.00982650787046": 122,
              "145.1488159378314": 73,
              "145.2764756270426": 135,
              "145.48947778344336": 103,
              "147.23346531114476": 147,
              "147.64134245187597": 167,
              "147.9871746423014": 145,
              "148.7273553597861": 85,
              "149.12266672150872": 189,
              "150.873901521265": 120,
              "151.04019525495278": 168,
              "152.1910768143971": 169,
              "153.39829921048658": 102,
              "154.1781647664011": 225,
              "154.68749704789298": 133,
              "155.157065539639": 82,
              "155.64436881418442": 176,
              "155.8436425081727": 200,
              "156.59568487378965": 216,
              "157.210396582901": 238,
              "157.626495328901": 28,
              "158.1173484674": 117,
              "158.86163908030176": 174,
              "161.67668067881095": 224,
              "161.73342596659495": 26,
              "162.82533344876538": 181,
              "164.3366006829965": 203,
              "164.9831230161799": 218,
              "165.76159288151393": 202,
              "166.10964882116423": 179,
              "166.53664385089542": 163,
              "167.81288923040665": 153,
              "167.9210808656553": 280,
              "168.4251231756134": 254,
              "170.23257066714177": 183,
              "170.66954603243357": 157,
              "171.01098136137807": 152,
              "171.61189552463475": 188,
              "171.66271913943456": 201,
              "171.98409079901649": 210,
              "173.15955785526785": 132,
              "175.27825185157417": 229,
              "176.86588917504923": 142,
              "177.29709429245122": 199,
              "177.96762566026155": 170,
              "178.1791799078146": 154,
              "178.9829212149525": 171,
              "179.1684939465922": 242,
              "180.12433047559898": 199,
              "181.48025064570902": 209,
              "181.49687067783816": 220,
              "181.82526613131085": 223,
              "182.10247403846915": 160,
              "182.48029470406618": 128,
              "182.5657564295052": 187,
              "184.3651375588106": 242,
              "185.8459195374944": 145,
              "186.95596469713018": 249,
              "188.1836759028174": 185,
              "189.21952242021507": 237,
              "190.55231388929678": 287,
              "191.91895937535446": 243,
              "192.29990689951592": 203,
              "192.4084012085641": 177,
              "194.56641469114584": 213,
              "195.53444702106935": 213,
              "197.7245790920697": 238,
              "198.28733970781104": 193,
              "198.6549278649345": 154,
              "200.48813978684302": 192,
              "201.44740366738915": 242,
              "202.42548176866512": 260,
              "202.4729883466989": 182,
              "203.3648862586797": 281,
              "203.978442610427": 225,
              "204.8148882417463": 323,
              "205.56628288824686": 199,
              "207.9931514020136": 225,
              "208.33496570098214": 223,
              "213.94161438653282": 226,
              "214.73778446912183": 199,
              "216.1278370635664": 174,
              "216.16939992749576": 286,
              "218.3672560312316": 236,
              "219.2880400439244": 223,
              "219.52841480365169": 278,
              "222.89207584524047": 202,
              "228.63144086009925": 218,
              "230.14018078991467": 277,
              "234.89529202032645": 187,
              "235.4750055984041": 157,
              "237.3975472116217": 249,
              "239.25206100629657": 258,
              "240.13047867093883": 215,
              "248.01819999094369": 174,
              "252.21654743909494": 178,
              "261.3347463052869": 190,
              "265.10296850253144": 231,
              "268.0676312753658": 181,
              "276.9864361254804": 272
            }
          },
          "isSummary": false,
          "previewData": {
            "filter": null
          },
          "isSql": false
        }
      },
      "source": [
        "# 確認\n",
        "display(prediction.select(\"features\",\"RUL\",\"prediction\"))"
      ],
      "attachments": {}
    },
    {
      "cell_type": "markdown",
      "metadata": {},
      "source": [
        "## SQL Poolへのロード\n",
        "明細としてのSparkテーブルと、最新のRUL予測値をSQL poolへロードします。\n",
        "\n",
        "sqlanalyticsAPIを利用して簡単にロード可能です。"
      ],
      "attachments": {}
    },
    {
      "cell_type": "code",
      "execution_count": 48,
      "outputs": [
        {
          "output_type": "execute_result",
          "execution_count": 48,
          "data": {
            "text/plain": "sqlDF: org.apache.spark.sql.DataFrame = [Cycle: bigint, DeviceId: string ... 9 more fields]"
          },
          "metadata": {}
        }
      ],
      "metadata": {},
      "source": [
        "%%spark\n",
        "val sqlDF = spark.sql(\"SELECT * FROM sensortablespark\")"
      ],
      "attachments": {}
    },
    {
      "cell_type": "code",
      "execution_count": 49,
      "outputs": [
        {
          "output_type": "execute_result",
          "execution_count": 49,
          "data": {
            "text/plain": "import org.apache.spark.sql.SqlAnalyticsConnector._\nimport com.microsoft.spark.sqlanalytics.utils.Constants\nsql_pool_name: String = aiaddw"
          },
          "metadata": {}
        }
      ],
      "metadata": {},
      "source": [
        "%%spark\n",
        "import org.apache.spark.sql.SqlAnalyticsConnector._\n",
        "import com.microsoft.spark.sqlanalytics.utils.Constants\n",
        "\n",
        "val sql_pool_name = \"aiaddw\" //SQL pool 名\n",
        "//SQL Poolへロード\n",
        "sqlDF.write.sqlanalytics(s\"$sql_pool_name.dbo.Sensor\", Constants.INTERNAL)"
      ],
      "attachments": {}
    },
    {
      "cell_type": "markdown",
      "metadata": {},
      "source": [
        "## 最新日付のセンサー平均値集計\n",
        ""
      ],
      "attachments": {}
    },
    {
      "cell_type": "code",
      "execution_count": 50,
      "outputs": [],
      "metadata": {},
      "source": [
        "aggdf = spark.sql(\"\"\"\n",
        "    SELECT\n",
        "        DeviceId,\n",
        "        date_jst,\n",
        "        round(avg(Sensor11),2) AS avgSensor11,\n",
        "        round(avg(Sensor14),2) AS avgSensor14,\n",
        "        round(avg(Sensor15),2) AS avgSensor15,\n",
        "        round(avg(Sensor9),2) AS avgSensor9\n",
        "    FROM \n",
        "        sensortablespark\n",
        "    WHERE\n",
        "        date_jst = (select max(date_jst) from sensortablespark)\n",
        "    GROUP BY \n",
        "        DeviceId,date_jst\n",
        "    \"\"\")"
      ],
      "attachments": {}
    },
    {
      "cell_type": "markdown",
      "metadata": {},
      "source": [
        "## 推論実行\n",
        ""
      ],
      "attachments": {}
    },
    {
      "cell_type": "code",
      "execution_count": 52,
      "outputs": [
        {
          "output_type": "execute_result",
          "execution_count": 52,
          "data": {
            "text/plain": "+---------+----------+-----------+-----------+-----------+----------+------------------+\n| DeviceId|  date_jst|avgSensor11|avgSensor14|avgSensor15|avgSensor9|               RUL|\n+---------+----------+-----------+-----------+-----------+----------+------------------+\n|N3172FJ-1|2020-04-30|      42.89|    8064.59|       9.31|   8520.16|133.09096758214582|\n|N1172FJ-2|2020-04-30|      42.97|    8062.41|       9.34|   8518.08|  142.611376568555|\n|N2172FJ-1|2020-04-30|      43.02|    8066.46|       9.33|   8525.53| 144.5720839290043|\n|N3172FJ-2|2020-04-30|      42.92|    8065.31|        9.3|   8523.92| 132.2436300302852|\n|N4172FJ-2|2020-04-30|      42.85|    8062.16|       9.32|   8514.89|132.45580649491785|\n|N1172FJ-1|2020-04-30|      43.02|    8066.88|       9.33|   8526.77|144.69539925399476|\n|N4172FJ-1|2020-04-30|      42.88|    8061.86|       9.32|   8518.24|133.23730839520795|\n|N2172FJ-2|2020-04-30|      42.96|    8063.93|       9.34|   8518.53|143.13407372162146|\n+---------+----------+-----------+-----------+-----------+----------+------------------+"
          },
          "metadata": {}
        }
      ],
      "metadata": {},
      "source": [
        "#推論用前処理\n",
        "vdf2 = vectorAssembler.transform(aggdf)\n",
        "\n",
        "#スコアリング実行\n",
        "predictdf = model.transform(vdf2)\\\n",
        "    .drop(\"features\")\\\n",
        "    .withColumnRenamed(\"prediction\",\"RUL\")\n",
        "\n",
        "#確認\n",
        "predictdf.show()\n",
        "\n",
        "#scalaへの受け渡し用tempview\n",
        "predictdf.createOrReplaceTempView(\"tempPredict\") "
      ],
      "attachments": {}
    },
    {
      "cell_type": "markdown",
      "metadata": {},
      "source": [
        "## SQL Poolへのロード②\n",
        ""
      ],
      "attachments": {}
    },
    {
      "cell_type": "code",
      "execution_count": 28,
      "outputs": [
        {
          "output_type": "execute_result",
          "execution_count": 28,
          "data": {
            "text/plain": "sql_pdf: org.apache.spark.sql.DataFrame = [DeviceId: string, date_jst: date ... 5 more fields]"
          },
          "metadata": {}
        }
      ],
      "metadata": {},
      "source": [
        "%%spark\n",
        "var sql_pdf = spark.sql(\"select * from tempPredict\")"
      ],
      "attachments": {}
    },
    {
      "cell_type": "code",
      "execution_count": 53,
      "outputs": [],
      "metadata": {},
      "source": [
        "%%spark\n",
        "//SQL Poolへロード\n",
        "sql_pdf.write.sqlanalytics(s\"$sql_pool_name.dbo.PREDICT_SensorRUL\", Constants.INTERNAL)"
      ],
      "attachments": {}
    }
  ]
}